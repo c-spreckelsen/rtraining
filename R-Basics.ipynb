{
 "cells": [
  {
   "cell_type": "markdown",
   "metadata": {},
   "source": [
    "## So bearbeiten Sie die Online-Übungen\n",
    "\n",
    "Die Online-Übungen kombinieren Anleitungstext und Bereiche, in denen Sie R-Befehle eintragen können. Wenn Sie anschließend im Menü oben auf __Run__ klicken, wertet R Ihre Befehle aus und zeigt (falls verfügbar) das Ergebnis an.\n",
    "\n",
    "Sollte Sie versehendlich auf den Anleitungstext klicken wird dieser anders angezeigt. Klicken Sie dann auch einfach auf \"Run\" und der Text sieht wieder aus wie zuvor."
   ]
  },
  {
   "cell_type": "markdown",
   "metadata": {},
   "source": [
    "## Erste Schritte in R"
   ]
  },
  {
   "cell_type": "markdown",
   "metadata": {},
   "source": [
    "### Variablen\n",
    "\n",
    "In R (und den meisten anderen Programmiersprachen) ist es möglich, quasi ein Namensschild an Daten anzuheften und die Daten später mit Hilfe ihres Namens wieder aufzurufen.\n",
    "\n",
    "Solche Namensschilder heißen in der Fachsprache auch __Variablen__. Das Anheften von Namensschildern an Daten nennt man __Variablenzuweisung__: Einer Variablen werden Daten zugewiesen (und lassen sich später mittels Variablen wieder aufrufen).\n",
    "\n",
    "Für eine Zuweisung verwendet R ein Pfeilsymbol. Es wird aus dem \"kleiner\"-Symbol (<) und dem Gedankenstrich zusammengesetzt und zeigt *in umgekehrter Leserichtung* von den Daten auf die Variable, der die Daten zugewiesen werden.\n",
    "\n",
    "### Aufgabe:\n",
    "*Probieren Sie es aus: __Vervollständigen__ Sie im folgenden grauen Kasten den Zuweisungsbefehl durch eine Zahl (z.B.: `x<-5`).*"
   ]
  },
  {
   "cell_type": "code",
   "execution_count": 1,
   "metadata": {},
   "outputs": [],
   "source": [
    "x<-"
   ]
  },
  {
   "cell_type": "markdown",
   "metadata": {},
   "source": [
    "### Variablenzuweisung durchführen\n",
    "Klicken Sie oben in der Menüleiste dieser Seite auf __Run__. Sie sehen ... eigentlich nichts. R hat sich erst einmal nur gemerkt, dass der Variablen x ein Zahlenwert zugewiesen wurde.\n",
    "\n",
    "Wenn Sie nun mithilfe der Variablen den Wert wieder aufrufen wollen, __geben Sie einfach nur x ein__ (und drücken die Eingabetaste). Als Ergebnis erhalten Sie 5 zurück.\n",
    "\n",
    "### Aufgabe:\n",
    "*Weisen Sie oben testweise auch eine andere Zahl zu. Und rufen Sie diese unten wieder ab.*"
   ]
  },
  {
   "cell_type": "code",
   "execution_count": null,
   "metadata": {
    "scrolled": true
   },
   "outputs": [],
   "source": []
  },
  {
   "cell_type": "markdown",
   "metadata": {},
   "source": [
    "### Rechnen mit Variablen\n",
    "Sie können mit Variablen rechnen wie mit Zahlen. Die Rechenoperation wird auf die zugewiesenen Zahlen angewendet.\n",
    "### Aufgabe:\n",
    "*Tragen Sie unten die folgenden Berechnungen ein:*\n",
    "\n",
    "`x+x`\n",
    "\n",
    "`x*x`\n",
    "\n",
    "`x/x`"
   ]
  },
  {
   "cell_type": "code",
   "execution_count": null,
   "metadata": {},
   "outputs": [],
   "source": []
  },
  {
   "cell_type": "markdown",
   "metadata": {},
   "source": [
    "### Hinweis\n",
    "Leider verwenden Statistiker und Programmierer den __Begriff der Variablen unterschiedlich__. In der Statistik sind Zufallsvariablen Größen (besser: Funktionen), deren Wert vom Zufall abhängt. Weil auch Merkmalsausprägungen (Körpergröße etc.) oft zufallsverteilt sind, werden Merkmale und Beobachtungsgrößen auch oft Variablen genannt. In der Programmierung sind Variablen Platzhalter für Daten. Im Programmcode bekommen diese Platzhalter einen Namen und der Computer assoziiert mit diesen Platzhaltern Speicherorte an denen wechselnde Daten abgelegt werden können.\n"
   ]
  },
  {
   "cell_type": "markdown",
   "metadata": {},
   "source": [
    "### Hintergrund: Funktionen\n",
    "Mehrere Befehle immer wieder aufs Neue einzutippen, ist eine schlechte Strategie. Besser ist es, sie zu kleinen Modulen zusammenzufassen, mit einem Namensschild zu versehen und bei Bedarf über diesen Namen aufzurufen. Dieses Vorgehen nennt man Funktionsdeklaration. Eine Funktion gleicht dabei einem Automaten, in den etwas eingeworfen wird und der dann etwas auswirft. Dem Einwurf entsprechen die __Argumente der Funktion__, ausgeworfen wird die __Rückgabe__.\n",
    "\n",
    "#### Beispiel:\n",
    "Die folgende __Funktionsdeklaration__ legt im R-Programm eine Funktion an, die zwei Zahlen addiert, diese Summe dann durch 2 teilt und zurückgibt. Die Funktion berechnet also den Mittelwert zweier Zahlen.\n",
    "\n",
    "`mwz <- function(y,z){\n",
    " \t(y+z)/2\n",
    "}`\n",
    "\n",
    "Als Platzhalter für die später an die Funktion übergebenen Eingangsdaten (Funktionsargumente) dienen die __Übergabeparameter__ (hier y und z), sie spielen eine ähnliche Rolle wie die vorher besprochenen Variablen. Wenn Sie die Funktion aufrufen, d.h. im Programm nutzen, __ersetzen Sie die Übergabeparameter durch die Funktionsargumente__ (z.B. Zahlen). Die Funktion verwen-det dann in allen ihren Befehlen Ihre Zahlen an der Stelle, an der der entsprechende Übergabeparameter steht. Zum Aufruf einer Funktion nutzen Sie nur ihren Namen (hier wurde der Funktion der Name `mwz` zugewiesen), gefolgt von einem Klammerpaar das anstelle der Übergben die zu verarbeitenden Daten/Zahlen enthält. Hier lautet ein typischer Funktionsaufruf:\n",
    "\n",
    "`mwz(3,4)`\n",
    "\n",
    "Der Aufruf ergibt den Mittelwert 3,5 dieser beiden Zahlen. \n",
    "### Aufgabe:\n",
    "*Deklarieren Sie eine Funktion, die den Mittelwert aus drei Zahlen berechnet.*\n",
    "#### Lösungsschritte:\n",
    "1.\tStarten Sie mit der Funktion für den Mittelwert aus zwei Zahlen (ist unten schon eingetragen)\n",
    "2.\tTragen Sie einen zusätzlichen Übergabeparameter zwischen den runden Klammern ein (von den bisherigen mit einem Komma abtrennen). Der Übergabeparameter kann irgendein Buchstabe sein, der noch nicht für Variablen oder Parameter genutzt wird.\n",
    "3.\tVerwenden Sie genau diesen neuen Parameter, um die Summe in der Funktion zu erweitern\n",
    "4.\tAchten Sie darauf, dass die Summe nun durch 3 geteilt werden muss.\n",
    "\n"
   ]
  },
  {
   "cell_type": "code",
   "execution_count": 13,
   "metadata": {},
   "outputs": [],
   "source": [
    "mwz <- function(y,z){\n",
    " \t(y+z)/2\n",
    "}"
   ]
  },
  {
   "cell_type": "markdown",
   "metadata": {},
   "source": [
    "#### Abschluss der Aufgabe:\n",
    "*Rufen Sie bitte jetzt Ihre Funktion für den Mittelwert aus drei Zahlen mit der richtigen Anzahl von Funktionsargumenten auf:*"
   ]
  },
  {
   "cell_type": "code",
   "execution_count": null,
   "metadata": {},
   "outputs": [],
   "source": [
    "mwz()"
   ]
  },
  {
   "cell_type": "markdown",
   "metadata": {},
   "source": [
    "### Bedingte Anweisungen\n",
    "Programme sollten nicht nur stur ein paar Rechenoperationen nacheinander ausführen, sondern flexibler auf Daten reagieren können. Der erste Schritt dazu ist die Nutzung sogenannter __bedingter Anweisungen__: Ein Befehl wird nur dann ausgeführt, wenn eine bestimmte Bedingung erfüllt ist, sonst nicht.\n",
    "\n",
    "Die folgende Funktion prüft ob ein Wert größer 38 ist und gibt nur in diesem Fall eine 1 zurück. Ist der Wert kleiner oder gleich 38, ergibt sich eine 0. Sie sehen in der Funktion eine etwas unübersichtliche Klammerstruktur der Form: `if(…){…} else {…}`: Zwischen den runden Klammern nach if wird die __Bedingung__ geschrieben, zwischen das __erste Paar geschweifter Klammern__ die Befehle, die nur ausgeführt werden, __wenn die Bedingungen wahr__ ist und zwischen das __zweite Paar geschweifter Klammern__ die Befehle die ggf. auszuführen sind, __wenn die Bedingung nicht zutrifft__.\n",
    "\n",
    "`hatFieber <- function(k){\n",
    "  if(k>38){ out <-1} else { out <-0 }\n",
    "  out\n",
    "}`\n",
    "\n",
    "\n",
    "### Aufgabe:\n",
    "*Ergänzen Sie unten die Funktion, so dass die Bedingung `k>38` geprüft wird und rufen Sie die Funktion mit unterschiedlichen Werten für k auf.*\n"
   ]
  },
  {
   "cell_type": "code",
   "execution_count": null,
   "metadata": {},
   "outputs": [],
   "source": [
    "hatFieber <- function(k){\n",
    "  if(){ out <-1} else { out <-0 }\n",
    "  out\n",
    "}\n",
    "\n",
    "# Bitte nachfolgend die Funktion korrekt aufrufen (Was fehlt?)\n",
    "\n",
    "hatFieber"
   ]
  },
  {
   "cell_type": "markdown",
   "metadata": {},
   "source": [
    "### Wiederholschleifen\n",
    "Der zweite Schritt zu mehr Flexibilität (und Nützlichkeit) von Programmen ist die Einführung von __Wiederholschleifen__. Das Programm wiederholt dieselben Befehle so lange, wie eine Bedingung erfüllt ist. Ein „Bore-out“ ist für Computer ja kein Problem, solange nur Strom fließt.\n",
    "\n",
    "Die folgende Funktion addiert so lange die Zahl 0,06 bis die Summe größer ist als 100. Als Er-gebnis gibt sie zurück, wie oft 0,06 addiert werden musste (klar hätte man auch einfach teilen können, dann aber keine Wiederholschleife kennengelernt). Die eigentliche Wiederholschleife ist im Folgenden fett hervorgehoben. Der Klammerausdruck für die Schleife `while(…){…}` enthält zwischen den runden Klammern die Bedingung und zwischen den geschweiften Klammern die Befehle, die immer wieder wiederholt werden, solange die Bedingung erfüllt ist.\n",
    "#### Achtung: \n",
    "Das Beispiel zeigt, dass eine Funktion auch ohne Übergabeparameter auskommen kann. Beim Aufruf müssen die runden Klammern dennoch angegeben werden. Zwischen den runden Klammern steht dann aber nichts. Sie sehen außerdem, dass Dezimalzahlen in R mit Dezimalpunkt geschrieben werden. Sie sehen auch, dass eine Variable rechts und links vom Zuweisungspfeil auftreten kann: Der Befehl nimmt rechts den bisherigen Wert der Variablen und macht etwas damit (hier wird eine 1 addiert). Dann weist er das Ergebnis der Variablen links als neuen Wert zu.\n",
    "#### Nochmals Achtung:\n",
    "Die explizite Programmierung einer Wiederholschleife erfolgt hier, um das grundlegende Programmier-Prinzip zu zeigen. In R gibt es Ausdrucksmöglichkeiten zur Wiederholung von Befehlen, die deutlich schneller arbeiten und deswegen vorzuziehen sind. Diese nutzen intern vorab übersetzte und optimierte Schleifen, die aber in den R-Befehlen nicht sichtbar sind (die apply()-Funktionen).\n",
    "\n",
    "`ausprobieren <- function(){\n",
    "  zähler <- 0\n",
    "  summe <- 0\n",
    "  while(summe <=100){\n",
    "    summe <- summe + 0.06\n",
    "    zähler <- zähler + 1\n",
    "  }\n",
    "  zähler\n",
    "}`\n",
    "\n",
    "#### Anmerkung:\n",
    "Variablenzuweisung, bedingte Anweisung und Wiederholschleifen sind völlig ausreichend dafür, dass eine Programmiersprache prinzipiell alles berechnen kann, was ein Computer überhaupt jemals berechnen kann. R kann also prinzipiell alles berechnen, was sich durch Computer berechnen lässt.\n",
    "\n",
    "### Aufgabe:\n",
    "*Korrigieren Sie die Funktion 'ausprobieren' (vgl. oben: es gibt zwei \"Fehler\")  und probieren Sie sie aus.*"
   ]
  },
  {
   "cell_type": "code",
   "execution_count": null,
   "metadata": {},
   "outputs": [],
   "source": [
    "ausprobieren <- function(){\n",
    "  zähler <- 0\n",
    "  summe <- 0\n",
    "  while(summe <= 0){\n",
    "    summe <- summe + 0.6\n",
    "    zähler <- zähler\n",
    "  }\n",
    "zähler\n",
    "}\n",
    "\n",
    "# Und wieder den Aufruf nicht vergessen:\n"
   ]
  },
  {
   "cell_type": "markdown",
   "metadata": {},
   "source": [
    "### Wenn nichts mehr funktioniert ...\n",
    "Bei der letzten Aufgabe könnte es passiert sein, dass Sie versehentlich eine Schleife starteten, die niemals endet, weil die Abbruchbedingung nicht erreicht werden kann.\n",
    "\n",
    "Spätestens ab dann läuft in der Online-Übung nichts mehr. Sie können sich retten, indem Sie im Menü unter *Kernel* den Menüpunkt *Restart* auswählen. Dadurch wird der R-Interpreter neu gestartet. Allerdings müssen Sie dann die bisherigen Veriablenzuweisungen und Funktionsdeklarationen wiederholen (geht aber schnell, wenn Sie mehrfach auf *Run* klicken)."
   ]
  },
  {
   "cell_type": "markdown",
   "metadata": {},
   "source": [
    "### Hintergrund\n",
    "Sie kennen und verstehen jetzt die wichtigsten Ausdrucksmittel von R: Variablen und Variablen-zuweisungen, Funktionsdeklarationen und Funktionsaufrufe und bedingte Anweisungen. Außer-dem haben Sie das Prinzip einer Wiederholschleife kennengelernt.\n",
    "R bringt sehr viele Funktionen mit, die andere Programmierer bereits ausprogrammiert haben. Diese müssen Sie lediglich mit den von Ihnen gewünschten Daten aufrufen. \n",
    "### Aufgabe:\n",
    "*Berechnen Sie mit bereits in R verfügbaren Funktionen die Wurzel aus 2 und lassen Sie sich eine zufällige Zahl aus einer Menge normalverteilter Zahlen ausgeben*\n",
    "#### Lösungsschritte   \n",
    "1) Verwenden Sie die R-Funktion `sqrt()`\n",
    "2) Verwenden Sie die R-Funktion `rnorm()` \n"
   ]
  },
  {
   "cell_type": "code",
   "execution_count": null,
   "metadata": {},
   "outputs": [],
   "source": []
  },
  {
   "cell_type": "markdown",
   "metadata": {},
   "source": [
    "#### R-Pakete installieren\n",
    "\n",
    "In der Einleitung oben haben Sie bereits gelesen, dass R-Packages als Erweiterungen von R genutzt werden können. Inzwischen können Sie leicht verstehen, wie das funktioniert: R-Packages enthalten weitere Funktionsdeklarationen. Wenn Sie ein R-Package installieren und R dann per Befehl mitteilen, dass Sie es nutzen wollen, können Sie anschließend die im Paket enthaltenen Funktionen aufrufen.\n",
    "\n",
    "Wenn ein Paket noch nicht auf Ihrem Rechner verfügbar ist installieren Sie es mit dem Befehl `install.packages(\"PAKET\")`, wobei Sie PAKET durch den Namen des Pakets ersetzen müssen (er landet also zwischen den Anführungszeichen \" \" ).\n",
    "\n",
    "Wenn Sie ein Paket in Ihrem Programm nutzen wollen, teilen Sie R das durch den folgenden Befehl mit:\n",
    "\n",
    "`library(\"PAKET\")`\n",
    "\n",
    "### Aufgabe:\n",
    "*Sorgen Sie dafür, dass Sie die Paket __tibble__ und __dplyr__ nutzen können. Eine Installation ist __nicht__ nötig. das ist bereits geschehen und würde hier zu lange dauern.*\n",
    "(Lassen Sie sich nicht von der entstehenden Warnmeldung irritieren.)\n"
   ]
  },
  {
   "cell_type": "code",
   "execution_count": null,
   "metadata": {},
   "outputs": [],
   "source": [
    "library()\n",
    "library()"
   ]
  },
  {
   "cell_type": "markdown",
   "metadata": {},
   "source": [
    "### Hintergrund: Vektoren und Tabellen\n",
    "Bisher haben Sie in Ihrem R-Programm einzelne Zahlen verarbeitet. Genauso hätten Sie auch einzelne Buchstaben oder Buchstabenfolgen (Zeichenketten), Datumsangaben und weitere so-genannte Datentypen verwenden können um R-Befehle bzw. -Funktionen darauf anzuwenden. Gemeinsam ist diesen: Es handelt sich um Einzelwerte.\n",
    "\n",
    "Ein großer Vorteil von R ist, dass Sie mit ganzen Sammlungen von Werten auf einmal arbeiten können. R kennt u.a. Vektoren, Matrizen, Listen und Tabellen. \n",
    "\n",
    "Ein Vektor in R vergibt nummerierte Plätze an Einzelwerte. Durch Angabe der Platznummer (In-dex) können die Werte aufgerufen werden. Plätze lassen sich auch neu besetzen. Der folgende Befehl/Funktionsaufruf weist der Variablen v einen Vektor zu, in dem die Zahlen 4, 7, 8 und 1  die  Plätzen 1, 2, 3 und 4 besetzen.\n",
    "\n",
    "`v<- c(4, 7, 8, 1)`\n",
    "\n",
    "\n",
    "Den Wert an der Stelle 2 rufen Sie durch Angabe der Platznummer (Index) in eckigen Klammern auf\n",
    "\n",
    "`v[2]`\n",
    "\n",
    "\n",
    "### Hintergrund\n",
    "In R können Sie Rechenoperationen auf komplette Vektoren anwenden. Um auf jeden Wert des eben erzeugten Vektors 2 zu addieren genügt die folgende Befehlszeile \n",
    "\n",
    "`v+2` \n",
    "\n",
    "Das Ergebnis ist, wie Sie sehen werden, wieder ein ganzer Vektor.\n",
    "\n",
    "### Hinweis\n",
    "Die einfache und bequeme Schreibweise in R verschleiert, dass der Computer bei dieser Opera-tion eine (verborgene, vorkompilierte und daher schnelle) Wiederholschleife aufruft, um die Zahl 2 so lange auf die nächsten Zahl im Vektor zu addieren, bis das Ende des Vektors erreicht wird.\n",
    "\n",
    "Manche Funktionen in R erwarten als Argument einen ganzen Vektor, liefern aber als Ergebnis einen einzelnen Wert. So kann beispielsweise der Mittelwert beliebig vieler Zahlen berechnet werden, indem Sie erst einen Vektor mit diesen Zahlen erzeugen und diesen dann an die ein-gebaute Funktion `mean()` übergeben.\n",
    "\n",
    "### Aufgabe:\n",
    "*Berechnen Sie Mittelwert und Varianz der folgenden Werte: 4, 24, 6, 8, 25, 38*\n",
    "\n",
    "#### Lösungsschritte:\n",
    "1)\tErzeugen Sie mit der c()-Funktion einen Vektor, der die Werte enthält und weisen Sie diesen der Variablen v zu.\n",
    "2)\tRufen Sie die Funktion mean() mit v als Argument auf\n",
    "3)\tRufen Sie die Funktion var() ebenfalls mit diesem Argument auf \n"
   ]
  },
  {
   "cell_type": "code",
   "execution_count": null,
   "metadata": {},
   "outputs": [],
   "source": [
    "# Bitte in allen Zeilen die Befehle passend zur Aufgabe ergänzen\n",
    "4, 24, 6, 8, 25, 38\n",
    "mean()\n",
    "var()"
   ]
  },
  {
   "cell_type": "markdown",
   "metadata": {},
   "source": [
    "### Hintergrund: Tabellen und tibbles\n",
    "Sie haben oben bereits das Paket __tibble__ geladen. Es ist Teil der Paketsammlung __tidyverse__. Diese Sammlung von R-Packages stellt Ihnen unter anderem Funktionen zur Verfügung, mit denen Sie Tabellen bequem verarbeiten können. R stellt zwar bereits „ab Werk“ eine Datenstruktur für tabellarisch organisierte Daten zur Verfügung, mit tidyverse lässt sich aber oft besser arbeiten.\n",
    "\n",
    "In tidyverse erzeugt die Funktion `tibbles()` tabellenartige Datenstrukturen, die – Überra-schung – tibbles genannt werden. \n",
    "\n",
    "Folgende Bezeichnungen sind wichtig:\n",
    "* Eine Tabellenspalte heißt __(Tibble-)Variable__\n",
    "* Eine Tabellenzeile heißt __Beobachtung__\n",
    "* Einzelne Zelleninhalte einer Tabelle heißen __Datenelemente__\n",
    " \n",
    "Sie können ein tibble aus Vektoren zusammensetzen:\n",
    "\n",
    "`id <- c(1,2,3,4)\n",
    "z1<-c(11,12,13,14)\n",
    "z2<-c(21,22,23,24)\n",
    "z3<-c(31,32,33,34)\n",
    "mytibble<-tibble(id,z1,z2,z3)`\n",
    "\n",
    "\n",
    "Dieser Befehl erzeugt ein tibble, das vier Zeilen und vier Spalten namens id, z1, z2 und z3 hat.\n",
    "\n",
    "### Aufgabe:\n",
    "*Vervollständigen Sie den folgenden Befehlsblock und führen Sie ihn aus, um ein tibble zu erzeugen. Lassen Sie sich das tibble anzeigen (Aufruf der entsprechenden Variablen).*   \n"
   ]
  },
  {
   "cell_type": "code",
   "execution_count": null,
   "metadata": {},
   "outputs": [],
   "source": [
    "id <- c(1,2,3,4)\n",
    "z1<-c(11,12,13,14)\n",
    "z2<-c(21,22,23,24)\n",
    "z3<-c(31,32,33,34)\n",
    "mytibble<-tibble()\n",
    "mytibble"
   ]
  },
  {
   "cell_type": "markdown",
   "metadata": {},
   "source": [
    "### Hintergrund: Arbeiten mit tibbles\n",
    "Tidyverse bietet Funktionen an, mit denen Sie aus einem gegebenen tibble eine Auswahl von Daten als neues tibble erzeugen. Sie können für die neue Tabelle bestimmte Spalten der Aus-gangstabelle auswählen (tidyverse-Funktion: `select()`). Sie können Zeilen nach Bedingungen filtern (tidyverse-Funktion: `filter()`). Und Sie können jeweils eine Zeile einer Tabelle mit einer Zeile einer anderen Tabelle zu einer neuen Zeile verknüpfen und aus solchen ver-knüpften Zeilen eine neue (breitere) Tabelle aufbauen (mehrere tidyverse-Funktionen, die das Wort `join` in ihrem Namen haben). \n",
    "\n",
    "#### Spalten auswählen\n",
    "Die Funktion `select()` erwartet mindestens zwei Argumente: 1) den Namen (d.h. die R-Variable) eines tibbles, 2) einen Vektor mit den auszuwählenden Spaltennamen. Die Spaltennamen müssen Sie in Anführungszeichen oder Hochkommata setzen.\n",
    "\n",
    "### Aufgabe:\n",
    "*Erzeugen Sie aus dem eben erstellen tibble ein neues das nur die Spalten id, z1 und z3 enthält.*\n",
    "\n",
    "#### Lösungsschritte\n",
    "1.\tVerwenden Sie die Funktion `select()`\n",
    "2.\tTragen Sie zwischen die runden Klammern erst den Namen (mytibble) der Ausgangstabelle ein und danach (per Komma abgetrennt) einen mittels c()-Funktion erzeugten Vektor mit den Namen der auszuwählenden Spalten (jeweils in Anführungszechen).\n"
   ]
  },
  {
   "cell_type": "code",
   "execution_count": null,
   "metadata": {},
   "outputs": [],
   "source": [
    "select()"
   ]
  }
 ],
 "metadata": {
  "celltoolbar": "Raw Cell Format",
  "kernelspec": {
   "display_name": "R",
   "language": "R",
   "name": "ir"
  },
  "language_info": {
   "codemirror_mode": "r",
   "file_extension": ".r",
   "mimetype": "text/x-r-source",
   "name": "R",
   "pygments_lexer": "r",
   "version": "3.4.4"
  }
 },
 "nbformat": 4,
 "nbformat_minor": 2
}
