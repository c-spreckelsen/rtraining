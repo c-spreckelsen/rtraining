{
 "cells": [
  {
   "cell_type": "markdown",
   "metadata": {},
   "source": [
    "# Hinweis: So bearbeiten Sie die Online-Übungen\n",
    "\n",
    "Die Online-Übungen kombinieren Anleitungstext und Bereiche, in denen Sie R-Befehle eintragen können. Wenn Sie anschließend im Menü oben auf __Run__ klicken, wertet R Ihre Befehle aus und zeigt (falls verfügbar) das Ergebnis an.\n",
    "\n",
    "Sollte Sie versehendlich auf den Anleitungstext klicken, wird dieser anders angezeigt. Klicken Sie dann auch einfach auf __\"Run\"__ und der Text sieht wieder aus wie zuvor.\n",
    "\n",
    "Diese Anleitung enthält im __Abschnitt A__ die Übungsaufgaben __ohne umfangreiche Kommentare__. Der Abschnitt sollte __während des Kurstermins__ bearbeitet werden. Dort bekommen Sie die nötigen Erläuterungen jeweils durch den/die Kursdozenten/in, bevor Sie die Aufgabe bearbeiten.\n",
    "\n",
    "__Abschnitt B__ enthält Übungen, die Sie in __R-Studio__ bearbeiten sollen. Diese werden hier nur wiedergegeben, damit Sie sich ggf. unnötiges Abtippen von Befehlen sparen können und sie stattdessen kopieren können.\n",
    "\n",
    "Im __Abschnitt C__ finden Sie alle Aufgaben nochmals. Dort sind die __Erläuterungstexte__ aus dem Skript passend eingesetzt. Sie können diesen Abschnitt nutzen, wenn Sie die Übungen außerhalb des Kurses wiederholen wollen. "
   ]
  },
  {
   "cell_type": "markdown",
   "metadata": {},
   "source": [
    "# Abschnitt A: Erste Schritte in R"
   ]
  },
  {
   "cell_type": "markdown",
   "metadata": {},
   "source": [
    "## 1. Variablen\n",
    "\n",
    "Für eine Zuweisung verwendet R ein Pfeilsymbol. Es wird aus dem \"kleiner\"-Symbol (<) und dem Gedankenstrich zusammengesetzt und zeigt *in umgekehrter Leserichtung* von den Daten auf die Variable, der die Daten zugewiesen werden.\n",
    "\n",
    "### Aufgabe 1.1:\n",
    "*__Vervollständigen__ Sie im folgenden grauen Kasten den Zuweisungsbefehl durch eine Zahl (z.B.: `x<-5`).*"
   ]
  },
  {
   "cell_type": "code",
   "execution_count": 1,
   "metadata": {},
   "outputs": [],
   "source": [
    "x<-"
   ]
  },
  {
   "cell_type": "markdown",
   "metadata": {},
   "source": [
    "\n",
    "### Aufgabe 1.2:\n",
    "*Rufe Sie den Wert der oben eingeführten Variable im folgenden Befehlsbereich wieder ab.*"
   ]
  },
  {
   "cell_type": "code",
   "execution_count": null,
   "metadata": {
    "scrolled": true
   },
   "outputs": [],
   "source": []
  },
  {
   "cell_type": "markdown",
   "metadata": {},
   "source": [
    "## 2. Rechnen mit Variablen\n",
    "Sie können mit Variablen __rechnen wie mit Zahlen__. Die Rechenoperation wird auf die zugewiesenen Zahlen angewendet.\n",
    "### Aufgabe 2.1:\n",
    "*Tragen Sie unten die folgenden Berechnungen ein:*\n",
    "\n",
    "`x+x`\n",
    "\n",
    "`x*x`\n",
    "\n",
    "`x/x`"
   ]
  },
  {
   "cell_type": "code",
   "execution_count": null,
   "metadata": {},
   "outputs": [],
   "source": []
  },
  {
   "cell_type": "markdown",
   "metadata": {},
   "source": [
    "## 3. Funktionen\n",
    "\n",
    "Die folgende __Funktionsdeklaration__ legt im R-Programm eine Funktion an, die zwei Zahlen addiert, diese Summe dann durch 2 teilt und zurückgibt. Die Funktion berechnet also den Mittelwert zweier Zahlen.\n",
    "\n",
    "`mwz <- function(y,z){\n",
    " \t(y+z)/2\n",
    "}`\n",
    "\n",
    "Ein typischer __Funktionsaufruf__ lautet dann:\n",
    "\n",
    "`mwz(3,4)`\n",
    "\n",
    "Der Aufruf ergibt den Mittelwert 3,5 dieser beiden Zahlen. \n",
    "\n",
    "### Aufgabe 3.1:\n",
    "*Deklarieren Sie eine Funktion, die den Mittelwert aus drei Zahlen berechnet.*\n",
    "#### Lösungsschritte:\n",
    "1.\tStarten Sie mit der Funktion für den Mittelwert aus zwei Zahlen (ist unten schon eingetragen)\n",
    "2.\tTragen Sie einen zusätzlichen Übergabeparameter zwischen den runden Klammern ein (von den bisherigen mit einem Komma abtrennen). Der Übergabeparameter kann irgendein Buchstabe sein, der noch nicht für Variablen oder Parameter genutzt wird.\n",
    "3.\tVerwenden Sie genau diesen neuen Parameter, um die Summe in der Funktion zu erweitern\n",
    "4.\tAchten Sie darauf, dass die Summe nun durch 3 geteilt werden muss.\n",
    "\n"
   ]
  },
  {
   "cell_type": "code",
   "execution_count": 1,
   "metadata": {},
   "outputs": [],
   "source": [
    "mwz <- function(y,z){\n",
    "    (y+z)/2\n",
    "}"
   ]
  },
  {
   "cell_type": "markdown",
   "metadata": {},
   "source": [
    "#### Abschluss der Aufgabe:\n",
    "*Rufen Sie bitte jetzt Ihre Funktion für den Mittelwert aus drei Zahlen mit der richtigen Anzahl von Funktionsargumenten auf:*"
   ]
  },
  {
   "cell_type": "code",
   "execution_count": null,
   "metadata": {},
   "outputs": [],
   "source": [
    "mwz()"
   ]
  },
  {
   "cell_type": "markdown",
   "metadata": {},
   "source": [
    "## 4. Bedingte Anweisungen\n",
    "\n",
    "Die folgende Funktion prüft ob ein Wert größer 38 ist und gibt nur in diesem Fall eine 1 zurück. Ist der Wert kleiner oder gleich 38, ergibt sich eine 0. \n",
    "\n",
    "`hatFieber <- function(k){\n",
    "  if(k>38){ out <-1} else { out <-0 }\n",
    "  out\n",
    "}`\n",
    "\n",
    "\n",
    "### Aufgabe 4.1:\n",
    "*Ergänzen Sie unten die Funktion, so dass die Bedingung `k>38` geprüft wird und rufen Sie die Funktion mit unterschiedlichen Werten für k auf.*\n"
   ]
  },
  {
   "cell_type": "code",
   "execution_count": null,
   "metadata": {},
   "outputs": [],
   "source": [
    "hatFieber <- function(k){\n",
    "  if(){ out <-1} else { out <- 0 }\n",
    "  out\n",
    "}\n",
    "\n",
    "# Bitte nachfolgend die Funktion korrekt aufrufen (Was fehlt?)\n",
    "\n",
    "hatFieber"
   ]
  },
  {
   "cell_type": "markdown",
   "metadata": {},
   "source": [
    "## 5. Wiederholschleifen\n",
    "Die folgende Funktion addiert so lange die Zahl 0,06 bis die Summe größer ist als 100. Als Ergebnis gibt sie zurück, wie oft 0,06 addiert werden musste. Der Klammerausdruck für die Schleife `while(…){…}` enthält zwischen den runden Klammern die __Bedingung__ und zwischen den geschweiften Klammern die Befehle, die immer wieder wiederholt werden, solange die Bedingung erfüllt ist.\n",
    "\n",
    "`ausprobieren <- function(){\n",
    "  zähler <- 0\n",
    "  summe <- 0\n",
    "  while(summe <=100){\n",
    "    summe <- summe + 0.06\n",
    "    zähler <- zähler + 1\n",
    "  }\n",
    "  zähler\n",
    "}`\n",
    "\n",
    "### Aufgabe 5.1:\n",
    "*Korrigieren Sie die Funktion 'ausprobieren' (vgl. oben: es gibt zwei \"Fehler\")  und probieren Sie sie aus.*"
   ]
  },
  {
   "cell_type": "code",
   "execution_count": null,
   "metadata": {},
   "outputs": [],
   "source": [
    "ausprobieren <- function(){\n",
    "  zähler <- 0\n",
    "  summe <- 0\n",
    "  while(summe <= 0){\n",
    "    summe <- summe + 0.6\n",
    "    zähler <- zähler\n",
    "  }\n",
    "zähler\n",
    "}\n",
    "\n",
    "# Und wieder den Aufruf nicht vergessen:\n"
   ]
  },
  {
   "cell_type": "markdown",
   "metadata": {},
   "source": [
    "### Wenn nichts mehr funktioniert ...\n",
    "Bei der letzten Aufgabe könnte es passiert sein, dass Sie versehentlich eine Schleife starteten, die niemals endet, weil die __Abbruchbedingung nicht erreicht__ werden kann.\n",
    "\n",
    "Spätestens ab dann läuft in der Online-Übung nichts mehr. Sie können sich retten, indem Sie im __Menü unter *Kernel* den Menüpunkt *Restart*__ auswählen. Allerdings müssen Sie dann die bisherigen Variablenzuweisungen und Funktionsdeklarationen wiederholen (geht aber schnell, wenn Sie mehrfach auf *Run* klicken)."
   ]
  },
  {
   "cell_type": "markdown",
   "metadata": {},
   "source": [
    "## 6. Funktionen aus dem Bestand von R\n",
    "R bringt sehr viele __Funktionen__ mit, die andere Programmierer bereits ausprogrammiert haben. Diese müssen Sie lediglich mit den von Ihnen gewünschten Daten aufrufen. \n",
    "### Aufgabe 6.1:\n",
    "*Berechnen Sie mit bereits in R verfügbaren Funktionen die Wurzel aus 2 und lassen Sie sich eine zufällige Zahl aus einer Menge normalverteilter Zahlen ausgeben*\n",
    "#### Lösungsschritte \n",
    "\n",
    "1. Verwenden Sie die R-Funktion `sqrt()`\n",
    "2. Verwenden Sie die R-Funktion `rnorm()` (Achtung, dieser Funktion müssen Sie mittels Eingabeparameter mitteilen, wie viele zufällig gewählte Zahlen Sie herausbekommen wollen).\n"
   ]
  },
  {
   "cell_type": "code",
   "execution_count": null,
   "metadata": {},
   "outputs": [],
   "source": [
    "rnorm()"
   ]
  },
  {
   "cell_type": "markdown",
   "metadata": {},
   "source": [
    "## 7. R-Pakete installieren\n",
    "\n",
    "Mit dem Befehl `install.packages(\"PAKET\")` installieren Sie R-Pakete, wobei Sie PAKET durch den Namen des Pakets ersetzen müssen.\n",
    "\n",
    "Der folgenden Befehl macht ein Paket in Ihrem Programm zugänglich:\n",
    "\n",
    "`library(\"PAKET\")`\n",
    "\n",
    "### Aufgabe 7.1:\n",
    "*Sorgen Sie dafür, dass Sie die Paket __tibble__ und __dplyr__ nutzen können. Eine Installation ist __nicht__ nötig. das ist bereits geschehen und würde hier zu lange dauern.*\n",
    "(Lassen Sie sich nicht von der entstehenden Warnmeldung irritieren.)\n"
   ]
  },
  {
   "cell_type": "code",
   "execution_count": null,
   "metadata": {},
   "outputs": [],
   "source": [
    "library()\n",
    "library()"
   ]
  },
  {
   "cell_type": "markdown",
   "metadata": {},
   "source": [
    "## 8. Vektoren und Tabellen\n",
    "\n",
    "Ein __Vektor__ in R vergibt nummerierte Plätze an Einzelwerte. Durch Angabe der Platznummer (__Index__) können die Werte aufgerufen werden. Plätze lassen sich auch neu besetzen. Der folgende Befehl/Funktionsaufruf weist der Variablen v einen Vektor zu, in dem die Zahlen 4, 7, 8 und 1  die  Plätzen 1, 2, 3 und 4 besetzen.\n",
    "\n",
    "`v<- c(4, 7, 8, 1)`\n",
    "\n",
    "\n",
    "Den Wert an der Stelle 2 rufen Sie durch Angabe der Platznummer (Index) in eckigen Klammern auf\n",
    "\n",
    "`v[2]`\n",
    "\n",
    "\n",
    "### Aufgabe 8.1:\n",
    "*Berechnen Sie Mittelwert und Varianz der folgenden Werte: 4, 24, 6, 8, 25, 38*\n",
    "\n",
    "#### Lösungsschritte:\n",
    "1.\tErzeugen Sie mit der `c()`-Funktion einen Vektor, der die Werte enthält und weisen Sie diesen der Variablen v zu.\n",
    "2.\tRufen Sie die Funktion `mean()` mit v als Argument auf\n",
    "3.\tRufen Sie die Funktion `var()` ebenfalls mit diesem Argument auf \n"
   ]
  },
  {
   "cell_type": "code",
   "execution_count": null,
   "metadata": {},
   "outputs": [],
   "source": [
    "# Bitte in allen Zeilen die Befehle passend zur Aufgabe ergänzen\n",
    "4, 24, 6, 8, 25, 38\n",
    "mean()\n",
    "var()"
   ]
  },
  {
   "cell_type": "markdown",
   "metadata": {},
   "source": [
    "## 9. Tabellen und tibbles\n",
    "\n",
    "In tidyverse erzeugt die Funktion `tibbles()` __tabellenartige Datenstrukturen__, die – Überraschung – __tibbles__ genannt werden.\n",
    "\n",
    "Sie können ein tibble aus Vektoren zusammensetzen:\n",
    "\n",
    "`id <- c(1,2,3,4)\n",
    "z1<-c(11,12,13,14)\n",
    "z2<-c(21,22,23,24)\n",
    "z3<-c(31,32,33,34)\n",
    "mytibble<-tibble(id,z1,z2,z3)`\n",
    "\n",
    "\n",
    "Dieser Befehl erzeugt ein tibble, das vier Zeilen und vier Spalten namens id, z1, z2 und z3 hat.\n",
    "\n",
    "### Aufgabe 9.1:\n",
    "*Vervollständigen Sie den folgenden Befehlsblock und führen Sie ihn aus, um ein tibble zu erzeugen. Lassen Sie sich das tibble anzeigen (Aufruf der entsprechenden Variablen).*   \n"
   ]
  },
  {
   "cell_type": "code",
   "execution_count": null,
   "metadata": {},
   "outputs": [],
   "source": [
    "id <- c(1,2,3,4)\n",
    "z1<-c(11,12,13,14)\n",
    "z2<-c(21,22,23,24)\n",
    "z3<-c(31,32,33,34)\n",
    "mytibble<-tibble()\n",
    "\n",
    "#Aufruf der Variablen nicht vergessen ..."
   ]
  },
  {
   "cell_type": "markdown",
   "metadata": {},
   "source": [
    "##  10. Arbeiten mit tibbles\n",
    "\n",
    "#### Spalten auswählen\n",
    "Die Funktion `select()` erwartet mindestens zwei Argumente:\n",
    "1. den Namen (d.h. die R-Variable) eines tibbles, \n",
    "2. einen Vektor mit den auszuwählenden Spaltennamen. Die Spaltennamen müssen Sie in Anführungszeichen oder Hochkommata setzen.\n",
    "\n",
    "### Aufgabe 10.1:\n",
    "*Erzeugen Sie aus dem eben erstellen tibble ein neues, das nur die Spalten id, z1 und z3 enthält.*\n",
    "\n",
    "#### Lösungsschritte\n",
    "1.\tVerwenden Sie die Funktion `select()`\n",
    "2.\tTragen Sie zwischen die runden Klammern erst den Namen (mytibble) der Ausgangstabelle ein und danach (per Komma abgetrennt) einen mittels c()-Funktion erzeugten Vektor mit den Namen der auszuwählenden Spalten (jeweils in Anführungszechen).\n"
   ]
  },
  {
   "cell_type": "code",
   "execution_count": null,
   "metadata": {},
   "outputs": [],
   "source": [
    "select()"
   ]
  },
  {
   "cell_type": "markdown",
   "metadata": {},
   "source": [
    "## 11. Zeilen filtern\n",
    "\n",
    "Die Funktion `filter()` erwartet ebenfalls zwei Argumente: 1) den Namen des tibbles und 2) eine Bedingung. \n",
    "\n",
    "### Aufgabe 11.1:\n",
    "\n",
    "*Filtern Sie in dem ober erstellten tibble alle Zeilen, in denen in der Spalte z1 eine Zahl steht die größer als 12 ist.*\n",
    "\n",
    "#### Lösungsschritte\n",
    "1.\tVerwenden Sie die Funktion `filter()` und tragen als erstes Argument den Namen des oben erzeugten tibbles ein (hier: mytibble).\n",
    "2.\tFormulieren Sie als Bedingung `z1>12` und tragen diese als zweites Argument ein. In der Bedingung sollten keine Anführungszeichen auftreten.\n"
   ]
  },
  {
   "cell_type": "code",
   "execution_count": null,
   "metadata": {},
   "outputs": [],
   "source": []
  },
  {
   "cell_type": "markdown",
   "metadata": {},
   "source": [
    "### Aufgabe 11.2:\n",
    "\n",
    "*Erzeugen Sie ein neues tibble und weisen Sie dieses einer (R-)Variablen `tibblezwei` zu. Diese Tabelle sollte, wie die erste Tabelle, eine Spalte id enthalten, hier aber mit den Werten 1, 2, 3, 4 und 5. Außerdem eine Spalte namens „z3“ mit den Werten 35, 34, 33, 32, 31 (bitte in dieser Reihenfolge) sowie eine Spalte „b1“ mit den Werten (Achtung: Hochkommata benutzen, damit die Spalte später Buchstaben enthält) ‘A‘, ‘B‘, ‘C‘, ‘D‘, ‘E‘.*\n",
    " \n",
    "#### Lösungsschritte\n",
    "1.\tErzeugen Sie mit der `c()`-Funktion alle für die drei Spalten benötigten Vektoren (z.B. `b1 <- c('A','B','C','D','E')`).\n",
    "2.\tGeben Sie eine Variablenzuweisung ein, auf deren linken Seite der Name des neuen tibbles steht (`tibblezwei`) und auf deren rechter Seite die Funktion `tibble()` mit den Spaltennamen als Argument aufgerufen wird, um das neue tibble zu erzeugen."
   ]
  },
  {
   "cell_type": "code",
   "execution_count": null,
   "metadata": {},
   "outputs": [],
   "source": [
    "#Bitte ergänzen Sie die Befehle\n",
    "id<-\n",
    "z3<-\n",
    "b1<-c('A', 'B', 'C', 'D', 'E')\n",
    "tibblezwei<-\n",
    "\n",
    "#Und den Aufruf der tibble-Variable nicht vergessen:\n"
   ]
  },
  {
   "cell_type": "markdown",
   "metadata": {},
   "source": [
    "## 12. Joins\n",
    "\n",
    "__Tabellenverknüpfungen (Joins)__ gehören zu den nützlichsten Funktionen, die Datenbanksysteme mitbringen. In Excel lassen sich Tabellen mit vertretbarem Aufwand nicht verknüpfen. In R ist das aber sehr wohl möglich. \n",
    "\n",
    "`inner_join(mytibble,tibblezwei, by='id')`\n",
    "\n",
    "Dieser Befehl ergibt die Kombination solcher Zeilen aus mytibble, für die es in tibblezwei Zeilen mit derselben id gibt.\n",
    "\n",
    "### Aufgabe 12.1:\n",
    "\n",
    "*Ändern Sie nachfolgend die Spalte, mittels derer die Verknüpfung hergestellt wird: Testen Sie, was passiert, wenn die Tabellen statt über die Spalte id über die Spalte z3 verknüpft werden.*"
   ]
  },
  {
   "cell_type": "code",
   "execution_count": null,
   "metadata": {},
   "outputs": [],
   "source": [
    "inner_join(mytibble,tibblezwei, by='id')"
   ]
  },
  {
   "cell_type": "markdown",
   "metadata": {},
   "source": [
    "Der Befehl `left_join(mytibble,tibblezwei, by='id')` reproduziert die komplette ersten Tabelle (`mytibble`) und hängt immer wo passende id-Werte vorhanden sind die passende Zeile der zweiten Tabelle an.\n",
    " \n",
    "Umgekehrt sorgt der Befehl `right_join(mytibble,tibblezwei, by='id')`dafür, das die zweite Tabelle vollständig reprodiziert wird und passende Zeilen der ersten Tabelle angefügt werden.\n",
    " \n",
    "### Aufgabe 12.2:\n",
    "*Es gibt noch eine vierte Join-Funktion: __full_join()__. Bilden Sie einen full join über die beiden Tabellen. Schauen Sie sich das Ergebnis an. Versuchen Sie zu formulieren, was es bedeutet, wenn ein full join erzeugt wird.*\n"
   ]
  },
  {
   "cell_type": "code",
   "execution_count": null,
   "metadata": {},
   "outputs": [],
   "source": [
    "#Bitte ergänzen Sie die Befehlszeile zu einem full_join über das id-Feld\n",
    "(mytibble,tibblezwei,)"
   ]
  },
  {
   "cell_type": "markdown",
   "metadata": {},
   "source": [
    "# Abschnitt B: Übungen in R-Studio\n",
    "Hier finden Sie Übungen, die Sie __nicht online, sondern in der Entwicklungsumgebung R-Studio bearbeiten__ sollen.\n",
    "R-Studio ist auf Ihrem Rechner im Kursraum bereits installiert.\n",
    "\n",
    "Den Programmcode der Übungen geben wir hier (z.T. unvollständig) wieder, damit Sie diesen kopieren ud in R-Studio einsetzen können - und nicht unnötig Zeit mit dem Abtippen von R-Befehlen verbringen.\n",
    "\n",
    "Bitte __beachten__ Sie: Teile der Programme sind mit Absicht unvollständig, damit Sie Gelegenheit haben, die wichtigen Aspekte eigenständig zu üben.\n",
    "\n",
    "## RS-1.: Daten einlesen\n",
    "### Aufgabe RS-1.1:\n",
    "_Für das Seminar wurden Ihnen zwei Dateien eines klinischen Beispiels (Box 2) zur Verfügung gestellt. Lesen Sie diese Dateien als tibble ein. Die vorhandenen Dateien eignen sich bereits dafür. Reale Daten müssen oft erst mühsam in eine saubere tabellarische Form gebracht werden.\n",
    "Die Datei „Phaenotypdatei.csv“ soll der Variablen klinischeDaten, die Datei „Expressionsdatei.csv“ der Variablen ExpressionsDaten zugewiesen werden._\n",
    "\n",
    "#### Lösungsschritte:\n",
    "1. Legen Sie das Verzeichnis fest, unter welchem sich die einzulesenden Daten befinden, d. h. `setwd(\"PFAD\")`. Gehen Sie dazu wie oben geschrieben vor.\n",
    "2.\tLaden Sie zunächst den kleinen Datensatz mit `read_csv(\"Phaenotypdatei.csv\")` und weisen Sie (<-) diesem ein tibble mit dem Namen _klinischeDaten_ (exakt so geschrieben, denn R beachtet Groß- und Kleinschreibung) zu.\n",
    "3.\tAnschließend verfahren Sie analog mit dem größeren Datensatz „Expressionsdatei.csv“ und dem Namen ExpressionsDaten. Sie werden bemerken, dass das Einlesen hier etwas länger dauert.\n",
    "\n",
    "## RS-2: Tabellen verknüpfen\n",
    "### Aufgabe RS-2.1:\n",
    "_Verknüpfen Sie `klinischeDaten` mit `ExpressionsDaten` so, dass in der entstehenden Analysetabellen die Patienteninformationen aus klinischeDaten vollständig reproduziert werden._\n",
    "\n",
    "#### Lösungsschritte:\n",
    "1.\tEs ist sinnvoll, nur die Expressionsdaten zu betrachten, zu denen Patienteninformationen vorliegen, d.h. zu denen es klinische Daten gibt, daher ist ein `left_join` mit `klinischeDaten` als erstem Argument der Funktion und `ExpressionsDaten` als zweitem Argument angemessen.\n",
    "2.\tNutzt man die Zusatzoption `by=\"<Schlüsselvariable>\"`, ist als gemeinsame Schlüsselvariale hier „Sample“ zu wählen. Wenn Sie diese Option weglassen, wird automatisch nach einer passenden gemeinsamen Variable gesucht, welche in diesem Fall auch „Sample“ ist.\n",
    "3.\tWeisen Sie dem so entstehenden tibble den Name AnalyseDaten zu (`<-`).\n",
    "\n",
    "### Aufgabe RS-2.2:\n",
    "_Erzeugen Sie eine Tabelle `Erwachsene`, die aus `AnalyseDaten` nur Datensätze zu Personen mit Alter ≥ 18 Jahre enthält. Für eine (fiktive) weiterführende Analyse wählen Sie aus dieser Tabelle nur die Expressionswerte für die Gene ARHGAP33 und H3F3A aus. Sorgen Sie dafür, dass die Tabelle ErwachseneAusschnitt außer den klinischen Daten nur diese Spalten enthält und speichern Sie die Tabelle (das tibble) als CSV-Datensatz._\n",
    "\n",
    "#### Lösungsschritte:\n",
    "1.\tFiltern Sie die AnalyseDaten nach Erwachsenen mit dem Vergleichskriterium ≥18. D.h. nutzen sie die oben eingeführte Funktion `filter()` für AnalyseDaten mit Filterbedingung für Alter. Weisen Sie das dieses Zwischenergebnis der Variablen Ewachsene.\n",
    "2.\tWählen Sie mit der Funktion `select()` aus der Tabelle Erwachsene nur die klinschen Daten und die Expressionswerte zu ARHGAP33 und H3F3A. Dabei wären nach dem tibble-Namen Erwachsene die Variablen aus den klinischen Daten einzeln mit \" \" einzugeben (getrennt durch ein Komma), dazu die zusätzlichen Variablen \"ARHGAP33\" und  \"H3F3A\". Eine alternative und kürzere Lösung erhält man unter der Nutzung der `names()`-Funktion. Sie liefert alle Spaltennamen eines tibbles: `select(Erwachsene, names(klinischeDaten), \"ARHGAP33\", \"H3F3A\")`\n",
    "3.\tNutzen Sie für das Speichern des Ergebnisses die `write_csv(OBJEKT, \"PFAD\")`-Funktion. Hierbei wird für OBJEKT das tibble ErwachseneAusschnitt gesetzt und für \"PFAD\" entsprechend der Aufgabenstellung `\"ErwachseneAusschnitt.csv\"` geschrieben. \n",
    "\n",
    "## RS-3: Daten visualisieren\n",
    "\n",
    "### Aufgabe RS-3.1:\n",
    "_Für die Genexpressionswerte der Gene „ARHGAP33“ und „H3F3A“ soll ein Streudiagramm (auch Scatterplot) in RStudio erstellt werden, wobei die x-Achse die Skala von „ARHGAP33“ und die y-Achse die Skala von „H3F3A“ erhalten soll._ \n",
    "\n",
    "#### Lösungsschritte: \n",
    "1.\tSchreiben Sie Folgendes in die Konsole bzw. in eine neue Zeile im Script-Fenster:\n",
    "\n",
    "`ggplot(data= ErwachseneAusschnitt) +\n",
    "    geom_point(mapping=aes(x=ARHGAP33,y=H3F3A))`\n",
    "\n",
    "### Aufgabe RS-3.2 (optionale Aufgabe, wenn genug Zeit ist):\n",
    "_Damit Sie weitere Diagrammtypen kennenlernen, erstellen Sie bitte außerdem_\n",
    "\n",
    "* ein Säulendiagramm, welches die Häufigkeiten der Variable „Status“ abbildet,\n",
    "* ein Bubble-Diagramm der Variablen „Genotyp“ und „Gewebe“ und\n",
    "* ein Histogramm zur Altersverteilung der erhobenen Daten.\n",
    "\n",
    "#### Lösungsschritte:\n",
    "1. Säulendiagramm mit diskreten Werten auf der x-Achse (Status):\n",
    "\n",
    "`ggplot(data= ErwachseneAusschnitt) + \t\n",
    "     geom_bar(mapping=aes(x=Status))`\n",
    "     \n",
    "2. Bubble-Diagramm, Darstellung für die kombinierten Häufigkeiten zweier diskreter Variablen (Genotyp, Gewebe):\n",
    "\n",
    "`ggplot(data= ErwachseneAusschnitt) + \t\n",
    "     geom_count(mapping=aes(x=Genotyp, y=Gewebe))`\n",
    "\t\n",
    "3. Histogramm für eine „stetige“ Variable (Alter)\n",
    "\n",
    "`ggplot(data= ErwachseneAusschnitt) + \t\n",
    "     geom_histogram(mapping=aes(x=Alter))`\n",
    "\t\n",
    "\n",
    "## RS-4: Daten in Publikationsqualität ausgeben\n",
    "\n",
    "### Aufgabe RS-4.1 (optionale Aufgabe, wenn genug Zeit ist):\n",
    "_Erzeugen Sie eine Graphik in der 1) Punkte zu verschiedenen Genotypen unterschiedlich eingefärbt werden, 2) die y-Achse logarithmisch skaliert ist und 3) eine lineare Trendlinie (Regressionsgerade) eingefügt wurde._\n",
    "\n",
    "#### Lösungsschnitte: \n",
    "Nutzen Sie den folgenden Befehl:\n",
    "\n",
    "`ggplot(data= ErwachseneAusschnitt) +\n",
    "       geom_point(mapping=aes(x=Alter,y=log2(H3F3A),color=Genotyp)) +\n",
    "       geom_smooth(mapping=aes(x=Alter,y=log2(H3F3A)),\n",
    "       method =\"lm\", se=FALSE)`\n",
    "\n",
    "### Aufgabe RS-4.2 (optionale Aufgabe, wenn genug Zeit ist):\n",
    "_Erzeugen Sie die oben zuletzt dargestellte Graphik als Bilddatei in Publikationsqualität._\n",
    "\n",
    "#### Lösungsschritte:\n",
    "1.\tWählen Sie einen Namen für die Ausgabedatei z.B.: meinBild.png und nutzen dann die png()-Funktion: \n",
    "\n",
    "`png(filename = \"meinBild.png\", width = 1800, height = 2500, res=300)`\n",
    "\n",
    "2.\tKopieren Sie die Funktionsaufrufe zur Erzeugung der letzten Grafik unter den Aufruf der png()-Funktion.\n",
    "3.\tVergessen Sie nicht, am Ende die Ausgabe ins Dateisystem wieder abzuschalten: `dev.off()`\n",
    "\n"
   ]
  },
  {
   "cell_type": "markdown",
   "metadata": {},
   "source": [
    "# Abschnitt C: Kommentierte Übungen\n",
    "Im Folgenden finden Sie alle Aufgaben nochmals. Hier sind sie mit dem erläuternden Text aus dem Skript kombiniert, um Ihnen ggf. eine Wiederholung ohne Anleitung zu erleichtern. "
   ]
  },
  {
   "cell_type": "markdown",
   "metadata": {},
   "source": [
    "### Variablen\n",
    "\n",
    "In R (und den meisten anderen Programmiersprachen) ist es möglich, quasi ein Namensschild an Daten anzuheften und die Daten später mit Hilfe ihres Namens wieder aufzurufen.\n",
    "\n",
    "Solche Namensschilder heißen in der Fachsprache auch __Variablen__. Das Anheften von Namensschildern an Daten nennt man __Variablenzuweisung__: Einer Variablen werden Daten zugewiesen (und lassen sich später mittels Variablen wieder aufrufen).\n",
    "\n",
    "Für eine Zuweisung verwendet R ein Pfeilsymbol. Es wird aus dem \"kleiner\"-Symbol (<) und dem Gedankenstrich zusammengesetzt und zeigt *in umgekehrter Leserichtung* von den Daten auf die Variable, der die Daten zugewiesen werden.\n",
    "\n",
    "### Aufgabe:\n",
    "*Probieren Sie es aus: __Vervollständigen__ Sie im folgenden grauen Kasten den Zuweisungsbefehl durch eine Zahl (z.B.: `x<-5`).*"
   ]
  },
  {
   "cell_type": "code",
   "execution_count": 1,
   "metadata": {},
   "outputs": [],
   "source": [
    "x<-"
   ]
  },
  {
   "cell_type": "markdown",
   "metadata": {},
   "source": [
    "### Variablenzuweisung durchführen\n",
    "Solange sich der Mauszeiger noch im __grauen Befehlsfeld__ befindet klicken Sie bitte in der Menüleiste dieser Seite auf __Run__. Sie sehen ... eigentlich nichts. R hat sich erst einmal nur gemerkt, dass der Variablen x ein Zahlenwert zugewiesen wurde.\n",
    "\n",
    "Wenn Sie nun mithilfe der Variablen den Wert wieder aufrufen wollen, __geben Sie einfach nur x ein__ (und klicken anschließend auf __Run__). Als Ergebnis erhalten Sie 5 zurück.\n",
    "\n",
    "### Aufgabe:\n",
    "*Weisen Sie oben testweise auch eine andere Zahl zu (immer gleich anschließend noch auf Run klicken). Und rufen Sie diese im folgenden Befehlsbereich wieder ab.*"
   ]
  },
  {
   "cell_type": "code",
   "execution_count": null,
   "metadata": {
    "scrolled": true
   },
   "outputs": [],
   "source": []
  },
  {
   "cell_type": "markdown",
   "metadata": {},
   "source": [
    "### Rechnen mit Variablen\n",
    "Sie können mit Variablen __rechnen wie mit Zahlen__. Die Rechenoperation wird auf die zugewiesenen Zahlen angewendet.\n",
    "### Aufgabe:\n",
    "*Tragen Sie unten die folgenden Berechnungen ein:*\n",
    "\n",
    "`x+x`\n",
    "\n",
    "`x*x`\n",
    "\n",
    "`x/x`"
   ]
  },
  {
   "cell_type": "code",
   "execution_count": null,
   "metadata": {},
   "outputs": [],
   "source": []
  },
  {
   "cell_type": "markdown",
   "metadata": {},
   "source": [
    "### Hinweis\n",
    "Leider verwenden Statistiker und Programmierer den __Begriff der Variablen unterschiedlich__. In der Statistik sind Zufallsvariablen Größen (besser: Funktionen), deren Wert vom Zufall abhängt. Weil auch Merkmalsausprägungen (Körpergröße etc.) oft zufallsverteilt sind, werden Merkmale und Beobachtungsgrößen auch oft Variablen genannt. In der Programmierung sind Variablen Platzhalter für Daten. Im Programmcode bekommen diese Platzhalter einen Namen und der Computer assoziiert mit diesen Platzhaltern Speicherorte an denen wechselnde Daten abgelegt werden können.\n"
   ]
  },
  {
   "cell_type": "markdown",
   "metadata": {},
   "source": [
    "### Hintergrund: Funktionen\n",
    "Mehrere Befehle immer wieder aufs Neue einzutippen, ist eine schlechte Strategie. Besser ist es, sie zu kleinen Modulen zusammenzufassen, mit einem Namensschild zu versehen und bei Bedarf über diesen Namen aufzurufen. Dieses Vorgehen nennt man __Funktionsdeklaration__. Eine Funktion gleicht dabei einem Automaten, in den etwas eingeworfen wird und der dann etwas auswirft. Dem Einwurf entsprechen die __Argumente der Funktion__, ausgeworfen wird die __Rückgabe__.\n",
    "\n",
    "#### Beispiel:\n",
    "Die folgende __Funktionsdeklaration__ legt im R-Programm eine Funktion an, die zwei Zahlen addiert, diese Summe dann durch 2 teilt und zurückgibt. Die Funktion berechnet also den Mittelwert zweier Zahlen.\n",
    "\n",
    "`mwz <- function(y,z){\n",
    " \t(y+z)/2\n",
    "}`\n",
    "\n",
    "Als Platzhalter für die später an die Funktion übergebenen Eingangsdaten (Funktionsargumente) dienen die __Übergabeparameter__ (hier y und z), sie spielen eine ähnliche Rolle wie die vorher besprochenen Variablen. Wenn Sie die Funktion aufrufen, d.h. im Programm nutzen, __ersetzen Sie die Übergabeparameter durch die Funktionsargumente__ (z.B. Zahlen). Die Funktion verwendet dann in allen ihren Befehlen Ihre Zahlen an der Stelle, an der der entsprechende Übergabeparameter steht. Zum Aufruf einer Funktion nutzen Sie nur ihren Namen (hier wurde der Funktion der Name `mwz` zugewiesen), gefolgt von einem Klammerpaar das anstelle der Übergben die zu verarbeitenden Daten/Zahlen enthält. Hier lautet ein typischer Funktionsaufruf:\n",
    "\n",
    "`mwz(3,4)`\n",
    "\n",
    "Der Aufruf ergibt den Mittelwert 3,5 dieser beiden Zahlen. \n",
    "### Aufgabe:\n",
    "*Deklarieren Sie eine Funktion, die den Mittelwert aus drei Zahlen berechnet.*\n",
    "#### Lösungsschritte:\n",
    "1.\tStarten Sie mit der Funktion für den Mittelwert aus zwei Zahlen (ist unten schon eingetragen)\n",
    "2.\tTragen Sie einen zusätzlichen Übergabeparameter zwischen den runden Klammern ein (von den bisherigen mit einem Komma abtrennen). Der Übergabeparameter kann irgendein Buchstabe sein, der noch nicht für Variablen oder Parameter genutzt wird.\n",
    "3.\tVerwenden Sie genau diesen neuen Parameter, um die Summe in der Funktion zu erweitern\n",
    "4.\tAchten Sie darauf, dass die Summe nun durch 3 geteilt werden muss.\n",
    "\n"
   ]
  },
  {
   "cell_type": "code",
   "execution_count": 1,
   "metadata": {},
   "outputs": [],
   "source": [
    "mwz <- function(y,z){\n",
    "    (y+z)/2\n",
    "}"
   ]
  },
  {
   "cell_type": "markdown",
   "metadata": {},
   "source": [
    "#### Abschluss der Aufgabe:\n",
    "*Rufen Sie bitte jetzt Ihre Funktion für den Mittelwert aus drei Zahlen mit der richtigen Anzahl von Funktionsargumenten auf:*"
   ]
  },
  {
   "cell_type": "code",
   "execution_count": null,
   "metadata": {},
   "outputs": [],
   "source": [
    "mwz()"
   ]
  },
  {
   "cell_type": "markdown",
   "metadata": {},
   "source": [
    "### Bedingte Anweisungen\n",
    "Programme sollten nicht nur stur ein paar Rechenoperationen nacheinander ausführen, sondern flexibler auf Daten reagieren können. Der erste Schritt dazu ist die Nutzung sogenannter __bedingter Anweisungen__: Ein Befehl wird nur dann ausgeführt, wenn eine bestimmte Bedingung erfüllt ist, sonst nicht.\n",
    "\n",
    "Die folgende Funktion prüft ob ein Wert größer 38 ist und gibt nur in diesem Fall eine 1 zurück. Ist der Wert kleiner oder gleich 38, ergibt sich eine 0. Sie sehen in der Funktion eine etwas unübersichtliche Klammerstruktur der Form: `if(…){…} else {…}`: Zwischen den runden Klammern nach if wird die __Bedingung__ geschrieben, zwischen das __erste Paar geschweifter Klammern__ die Befehle, die nur ausgeführt werden, __wenn die Bedingungen wahr__ ist und zwischen das __zweite Paar geschweifter Klammern__ die Befehle die ggf. auszuführen sind, __wenn die Bedingung nicht zutrifft__.\n",
    "\n",
    "`hatFieber <- function(k){\n",
    "  if(k>38){ out <-1} else { out <-0 }\n",
    "  out\n",
    "}`\n",
    "\n",
    "\n",
    "### Aufgabe:\n",
    "*Ergänzen Sie unten die Funktion, so dass die Bedingung `k>38` geprüft wird und rufen Sie die Funktion mit unterschiedlichen Werten für k auf.*\n"
   ]
  },
  {
   "cell_type": "code",
   "execution_count": null,
   "metadata": {},
   "outputs": [],
   "source": [
    "hatFieber <- function(k){\n",
    "  if(){ out <-1} else { out <-0 }\n",
    "  out\n",
    "}\n",
    "\n",
    "# Bitte nachfolgend die Funktion korrekt aufrufen (Was fehlt?)\n",
    "\n",
    "hatFieber"
   ]
  },
  {
   "cell_type": "markdown",
   "metadata": {},
   "source": [
    "### Wiederholschleifen\n",
    "Der zweite Schritt zu mehr Flexibilität (und Nützlichkeit) von Programmen ist die Einführung von __Wiederholschleifen__. Das Programm wiederholt dieselben Befehle so lange, wie eine Bedingung erfüllt ist. Ein „Bore-out“ ist für Computer ja kein Problem, solange nur Strom fließt.\n",
    "\n",
    "Die folgende Funktion addiert so lange die Zahl 0,06 bis die Summe größer ist als 100. Als Ergebnis gibt sie zurück, wie oft 0,06 addiert werden musste (klar hätte man auch einfach teilen können, dann aber keine Wiederholschleife kennengelernt). Die eigentliche Wiederholschleife ist im Folgenden fett hervorgehoben. Der Klammerausdruck für die Schleife `while(…){…}` enthält zwischen den runden Klammern die __Bedingung__ und zwischen den geschweiften Klammern die Befehle, die immer wieder wiederholt werden, solange die Bedingung erfüllt ist.\n",
    "#### Achtung: \n",
    "Das Beispiel zeigt, dass eine __Funktion auch ohne Übergabeparameter__ auskommen kann. Beim Aufruf müssen die runden Klammern dennoch angegeben werden. Zwischen den runden Klammern steht dann aber nichts. Sie sehen außerdem, dass Dezimalzahlen in R mit __Dezimalpunkt__ geschrieben werden. Sie sehen auch, dass eine Variable rechts und links vom Zuweisungspfeil auftreten kann: Der Befehl nimmt rechts den bisherigen Wert der Variablen und macht etwas damit (hier wird eine 1 addiert). Dann weist er das Ergebnis der Variablen links als neuen Wert zu.\n",
    "#### Nochmals Achtung:\n",
    "Die explizite Programmierung einer Wiederholschleife erfolgt hier, um das grundlegende Programmier-Prinzip zu zeigen. In R gibt es Ausdrucksmöglichkeiten zur Wiederholung von Befehlen, die deutlich schneller arbeiten und deswegen vorzuziehen sind. Diese nutzen intern vorab übersetzte und optimierte Schleifen, die aber in den R-Befehlen nicht sichtbar sind (die apply()-Funktionen).\n",
    "\n",
    "`ausprobieren <- function(){\n",
    "  zähler <- 0\n",
    "  summe <- 0\n",
    "  while(summe <=100){\n",
    "    summe <- summe + 0.06\n",
    "    zähler <- zähler + 1\n",
    "  }\n",
    "  zähler\n",
    "}`\n",
    "\n",
    "#### Anmerkung:\n",
    "Variablenzuweisung, bedingte Anweisung und Wiederholschleifen sind völlig ausreichend dafür, dass eine Programmiersprache prinzipiell alles berechnen kann, was ein Computer überhaupt jemals berechnen kann. __R kann also prinzipiell alles berechnen, was sich durch Computer berechnen lässt.__\n",
    "\n",
    "### Aufgabe:\n",
    "*Korrigieren Sie die Funktion 'ausprobieren' (vgl. oben: es gibt zwei \"Fehler\")  und probieren Sie sie aus.*"
   ]
  },
  {
   "cell_type": "code",
   "execution_count": null,
   "metadata": {},
   "outputs": [],
   "source": [
    "ausprobieren <- function(){\n",
    "  zähler <- 0\n",
    "  summe <- 0\n",
    "  while(summe <= 0){\n",
    "    summe <- summe + 0.6\n",
    "    zähler <- zähler\n",
    "  }\n",
    "zähler\n",
    "}\n",
    "\n",
    "# Und wieder den Aufruf nicht vergessen:\n"
   ]
  },
  {
   "cell_type": "markdown",
   "metadata": {},
   "source": [
    "### Wenn nichts mehr funktioniert ...\n",
    "Bei der letzten Aufgabe könnte es passiert sein, dass Sie versehentlich eine Schleife starteten, die niemals endet, weil die __Abbruchbedingung nicht erreicht__ werden kann.\n",
    "\n",
    "Spätestens ab dann läuft in der Online-Übung nichts mehr. Sie können sich retten, indem Sie im Menü unter *Kernel* den Menüpunkt *Restart* auswählen. Dadurch wird der R-Interpreter neu gestartet. Allerdings müssen Sie dann die bisherigen Variablenzuweisungen und Funktionsdeklarationen wiederholen (geht aber schnell, wenn Sie mehrfach auf *Run* klicken)."
   ]
  },
  {
   "cell_type": "markdown",
   "metadata": {},
   "source": [
    "### Hintergrund\n",
    "Sie kennen und verstehen jetzt die wichtigsten Ausdrucksmittel von R: __Variablen__ und __Variablenzuweisungen__, __Funktionsdeklarationen__ und __Funktionsaufrufe__ und __bedingte Anweisungen__. Außerdem haben Sie das Prinzip einer __Wiederholschleife__ kennengelernt.\n",
    "\n",
    "R bringt sehr viele __Funktionen__ mit, die andere Programmierer bereits ausprogrammiert haben. Diese müssen Sie lediglich mit den von Ihnen gewünschten Daten aufrufen. \n",
    "### Aufgabe:\n",
    "*Berechnen Sie mit bereits in R verfügbaren Funktionen die Wurzel aus 2 und lassen Sie sich eine zufällige Zahl aus einer Menge normalverteilter Zahlen ausgeben*\n",
    "#### Lösungsschritte \n",
    "\n",
    "1. Verwenden Sie die R-Funktion `sqrt()`\n",
    "2. Verwenden Sie die R-Funktion `rnorm()` (Achtung, dieser Funktion müssen Sie mittels Eingabeparameter mitteilen, wie viele zufällig gewählte Zahlen Sie herausbekommen wollen).\n"
   ]
  },
  {
   "cell_type": "code",
   "execution_count": null,
   "metadata": {},
   "outputs": [],
   "source": [
    "rnorm()"
   ]
  },
  {
   "cell_type": "markdown",
   "metadata": {},
   "source": [
    "#### R-Pakete installieren\n",
    "\n",
    "In der Einleitung oben haben Sie bereits gelesen, dass __R-Packages__ als __Erweiterungen von R__ genutzt werden können. Inzwischen können Sie leicht verstehen, wie das funktioniert: R-Packages enthalten weitere Funktionsdeklarationen. Wenn Sie ein R-Package installieren und R dann per Befehl mitteilen, dass Sie es nutzen wollen, können Sie anschließend die im Paket enthaltenen Funktionen aufrufen.\n",
    "\n",
    "Wenn ein Paket noch nicht auf Ihrem Rechner verfügbar ist installieren Sie es mit dem Befehl `install.packages(\"PAKET\")`, wobei Sie PAKET durch den Namen des Pakets ersetzen müssen (er landet also zwischen den Anführungszeichen \" \" ).\n",
    "\n",
    "Wenn Sie ein Paket in Ihrem Programm nutzen wollen, teilen Sie R das durch den folgenden Befehl mit:\n",
    "\n",
    "`library(\"PAKET\")`\n",
    "\n",
    "### Aufgabe:\n",
    "*Sorgen Sie dafür, dass Sie die Paket __tibble__ und __dplyr__ nutzen können. Eine Installation ist __nicht__ nötig. das ist bereits geschehen und würde hier zu lange dauern.*\n",
    "(Lassen Sie sich nicht von der entstehenden Warnmeldung irritieren.)\n"
   ]
  },
  {
   "cell_type": "code",
   "execution_count": null,
   "metadata": {},
   "outputs": [],
   "source": [
    "library()\n",
    "library()"
   ]
  },
  {
   "cell_type": "markdown",
   "metadata": {},
   "source": [
    "### Hintergrund: Vektoren und Tabellen\n",
    "Bisher haben Sie in Ihrem R-Programm einzelne Zahlen verarbeitet. Genauso hätten Sie auch einzelne Buchstaben oder Buchstabenfolgen (Zeichenketten), Datumsangaben und weitere so-genannte Datentypen verwenden können um R-Befehle bzw. -Funktionen darauf anzuwenden. Gemeinsam ist diesen: Es handelt sich um Einzelwerte.\n",
    "\n",
    "Ein großer Vorteil von R ist, dass Sie mit ganzen __Sammlungen von Werten__ auf einmal arbeiten können. R kennt u.a. __Vektoren__, __Matrizen__, __Listen__ und __Tabellen__. \n",
    "\n",
    "Ein __Vektor__ in R vergibt nummerierte Plätze an Einzelwerte. Durch Angabe der Platznummer (__Index__) können die Werte aufgerufen werden. Plätze lassen sich auch neu besetzen. Der folgende Befehl/Funktionsaufruf weist der Variablen v einen Vektor zu, in dem die Zahlen 4, 7, 8 und 1  die  Plätzen 1, 2, 3 und 4 besetzen.\n",
    "\n",
    "`v<- c(4, 7, 8, 1)`\n",
    "\n",
    "\n",
    "Den Wert an der Stelle 2 rufen Sie durch Angabe der Platznummer (Index) in eckigen Klammern auf\n",
    "\n",
    "`v[2]`\n",
    "\n",
    "\n",
    "### Hintergrund\n",
    "In R können Sie Rechenoperationen auf komplette Vektoren anwenden. Um auf jeden Wert des eben erzeugten Vektors 2 zu addieren genügt die folgende Befehlszeile \n",
    "\n",
    "`v+2` \n",
    "\n",
    "Das Ergebnis ist, wie Sie sehen werden, wieder ein ganzer Vektor.\n",
    "\n",
    "### Hinweis\n",
    "Die einfache und bequeme Schreibweise in R verschleiert, dass der Computer bei dieser Operation eine (verborgene, vorkompilierte und daher schnelle) Wiederholschleife aufruft, um die Zahl 2 so lange auf die nächsten Zahl im Vektor zu addieren, bis das Ende des Vektors erreicht wird.\n",
    "\n",
    "Manche Funktionen in R erwarten als Argument einen ganzen Vektor, liefern aber als Ergebnis einen einzelnen Wert. So kann beispielsweise der Mittelwert beliebig vieler Zahlen berechnet werden, indem Sie erst einen Vektor mit diesen Zahlen erzeugen und diesen dann an die ein-gebaute Funktion `mean()` übergeben.\n",
    "\n",
    "### Aufgabe:\n",
    "*Berechnen Sie Mittelwert und Varianz der folgenden Werte: 4, 24, 6, 8, 25, 38*\n",
    "\n",
    "#### Lösungsschritte:\n",
    "1.\tErzeugen Sie mit der `c()`-Funktion einen Vektor, der die Werte enthält und weisen Sie diesen der Variablen v zu.\n",
    "2.\tRufen Sie die Funktion `mean()` mit v als Argument auf\n",
    "3.\tRufen Sie die Funktion `var()` ebenfalls mit diesem Argument auf \n"
   ]
  },
  {
   "cell_type": "code",
   "execution_count": null,
   "metadata": {},
   "outputs": [],
   "source": [
    "# Bitte in allen Zeilen die Befehle passend zur Aufgabe ergänzen\n",
    "4, 24, 6, 8, 25, 38\n",
    "mean()\n",
    "var()"
   ]
  },
  {
   "cell_type": "markdown",
   "metadata": {},
   "source": [
    "### Hintergrund: Tabellen und tibbles\n",
    "Sie haben oben bereits die Pakete __tibble__ und __dplyr__ geladen. Sie sind Teil der Paketsammlung __tidyverse__. Diese Sammlung von R-Packages stellt Ihnen unter anderem Funktionen zur Verfügung, mit denen Sie Tabellen bequem verarbeiten können. R stellt zwar bereits „ab Werk“ eine Datenstruktur für tabellarisch organisierte Daten zur Verfügung, mit tidyverse lässt sich aber oft besser arbeiten.\n",
    "\n",
    "In tidyverse erzeugt die Funktion `tibbles()` __tabellenartige Datenstrukturen__, die – Überraschung – __tibbles__ genannt werden. \n",
    "\n",
    "Folgende Bezeichnungen sind wichtig:\n",
    "* Eine Tabellenspalte heißt __(Tibble-)Variable__\n",
    "* Eine Tabellenzeile heißt __Beobachtung__\n",
    "* Einzelne Zelleninhalte einer Tabelle heißen __Datenelemente__\n",
    " \n",
    "Sie können ein tibble aus Vektoren zusammensetzen:\n",
    "\n",
    "`id <- c(1,2,3,4)\n",
    "z1<-c(11,12,13,14)\n",
    "z2<-c(21,22,23,24)\n",
    "z3<-c(31,32,33,34)\n",
    "mytibble<-tibble(id,z1,z2,z3)`\n",
    "\n",
    "\n",
    "Dieser Befehl erzeugt ein tibble, das vier Zeilen und vier Spalten namens id, z1, z2 und z3 hat.\n",
    "\n",
    "### Aufgabe:\n",
    "*Vervollständigen Sie den folgenden Befehlsblock und führen Sie ihn aus, um ein tibble zu erzeugen. Lassen Sie sich das tibble anzeigen (Aufruf der entsprechenden Variablen).*   \n"
   ]
  },
  {
   "cell_type": "code",
   "execution_count": null,
   "metadata": {},
   "outputs": [],
   "source": [
    "id <- c(1,2,3,4)\n",
    "z1<-c(11,12,13,14)\n",
    "z2<-c(21,22,23,24)\n",
    "z3<-c(31,32,33,34)\n",
    "mytibble<-tibble()\n",
    "\n",
    "#Aufruf der Variablen nicht vergessen ..."
   ]
  },
  {
   "cell_type": "markdown",
   "metadata": {},
   "source": [
    "### Hintergrund: Arbeiten mit tibbles\n",
    "Tidyverse bietet Funktionen an, mit denen Sie aus einem gegebenen tibble eine __Auswahl von Daten__ als neues tibble erzeugen. Sie können für die neue Tabelle bestimmte __Spalten__ der Ausgangstabelle auswählen (tidyverse-Funktion: `select()`). Sie können __Zeilen__ nach __Bedingungen__ filtern (tidyverse-Funktion: `filter()`). Und Sie können jeweils eine Zeile einer Tabelle mit einer Zeile einer anderen Tabelle zu einer neuen Zeile __verknüpfen__ und aus solchen verknüpften Zeilen eine neue (breitere) Tabelle aufbauen (mehrere tidyverse-Funktionen, die das Wort `join` in ihrem Namen haben). \n",
    "\n",
    "#### Spalten auswählen\n",
    "Die Funktion `select()` erwartet mindestens zwei Argumente:\n",
    "1. den Namen (d.h. die R-Variable) eines tibbles, \n",
    "2. einen Vektor mit den auszuwählenden Spaltennamen. Die Spaltennamen müssen Sie in Anführungszeichen oder Hochkommata setzen.\n",
    "\n",
    "### Aufgabe:\n",
    "*Erzeugen Sie aus dem eben erstellen tibble ein neues das nur die Spalten id, z1 und z3 enthält.*\n",
    "\n",
    "#### Lösungsschritte\n",
    "1.\tVerwenden Sie die Funktion `select()`\n",
    "2.\tTragen Sie zwischen die runden Klammern erst den Namen (mytibble) der Ausgangstabelle ein und danach (per Komma abgetrennt) einen mittels c()-Funktion erzeugten Vektor mit den Namen der auszuwählenden Spalten (jeweils in Anführungszechen).\n"
   ]
  },
  {
   "cell_type": "code",
   "execution_count": null,
   "metadata": {},
   "outputs": [],
   "source": [
    "select()"
   ]
  },
  {
   "cell_type": "markdown",
   "metadata": {},
   "source": [
    "### Zeilen filtern\n",
    "\n",
    "Die Funktion `filter()` erwartet ebenfalls zwei Argumente: 1) den Namen des tibbles und 2) eine Bedingung. \n",
    "\n",
    "Mit `filter(TIBBLE, TIBBLEVARIABLE VERGLEICHKRITERIUM, …)` wählt man aus einem tibble mit dem Namen `TIBBLE` alle Beobachtungen/Zeilen aus, für welche die gewählte `TIBBLEVARIABLE`, d.h. die Spalte, ein gewünschtes Vergleichskriterium erfüllt. \n",
    "\n",
    "Handelt es sich bei der `TIBBLEVARIABLE` z. B. um eine Spalte, die Zahlen enthält, dann bedeutet `filter(TIBBLE, TIBBLEVARIABLE >= 20)`, dass aus dem tibble `TIBBLE` alle die Beobachtungen ausgewählt werden, für welche die tibblevariable namens `TIBBLEVARIABLE` (also eine Zahl) größer gleich 20 ist. Für weitere Details können Sie den R-Befehl `?filter` nutzen, um Informationen zur Funktion `filter()` angezeigt zu bekommen.\n",
    "\n",
    "### Aufgabe\n",
    "\n",
    "*Filtern Sie in dem ober erstellten tibble alle Zeilen, in denen in der Spalte z1 eine Zahl steht die größer als 12 ist.*\n",
    "\n",
    "#### Lösungsschritte\n",
    "1.\tVerwenden Sie die Funktion `filter()` und tragen als erstes Argument den Namen des oben erzeugten tibbles ein (hier: mytibble).\n",
    "2.\tFormulieren Sie als Bedingung `z1>12` und tragen diese als zweites Argument ein. In der Bedingung sollten keine Anführungszeichen auftreten.\n"
   ]
  },
  {
   "cell_type": "code",
   "execution_count": null,
   "metadata": {},
   "outputs": [],
   "source": []
  },
  {
   "cell_type": "markdown",
   "metadata": {},
   "source": [
    "### Aufgabe\n",
    "\n",
    "Erzeugen Sie ein neues tibble und weisen Sie dieses einer (R-)Variablen `tibblezwei` zu. Diese Tabelle sollte, wie die erste Tabelle, eine Spalte id enthalten, hier aber mit den Werten 1, 2, 3, 4 und 5. Außerdem eine Spalte namens „z3“ mit den Werten 35, 34, 33, 32, 31 (bitte in dieser Reihenfolge) sowie eine Spalte „b1“ mit den Werten (Achtung: Hochkommata benutzen, damit die Spalte später Buchstaben enthält) ‘A‘, ‘B‘, ‘C‘, ‘D‘, ‘E‘.\n",
    " \n",
    "#### Lösungsschritte\n",
    "1.\tErzeugen Sie mit der `c()`-Funktion alle für die drei Spalten benötigten Vektoren (z.B. `b1 <- c('A','B','C','D','E')`).\n",
    "2.\tGeben Sie eine Variablenzuweisung ein, auf deren linken Seite der Name des neuen tibbles steht (`tibblezwei`) und auf deren rechter Seite die Funktion `tibble()` mit den Spaltennamen als Argument aufgerufen wird, um das neue tibble zu erzeugen."
   ]
  },
  {
   "cell_type": "code",
   "execution_count": null,
   "metadata": {},
   "outputs": [],
   "source": [
    "#Bitte ergänzen Sie die Befehle\n",
    "id<-\n",
    "z3<-\n",
    "b1<-c('A', 'B', 'C', 'D', 'E')\n",
    "tibblezwei<-\n",
    "\n",
    "#Und den Aufruf der tibble-Variable nicht vergessen:\n"
   ]
  },
  {
   "cell_type": "markdown",
   "metadata": {},
   "source": [
    "### Hintergrund\n",
    "\n",
    "__Tabellenverknüpfungen (Joins)__ gehören zu den nützlichsten Funktionen, die Datenbanksysteme mitbringen. In Excel lassen sich Tabellen mit vertretbarem Aufwand nicht verknüpfen. In R ist das aber sehr wohl möglich. \n",
    "\n",
    "Bei __Joins__ geht es darum, Zeilen der einen Tabelle mit Zeilen der anderen zu kombinieren. Eine Verknüpfung erfolgt dabei über eine Spalte, die in beiden Tabellen vorkommt. Hier kommt u.a. die Spalte (tibble-Variable) namens id in beiden Tabellen vor. Eine Verknüpfung achtet dann darauf, bei welchen Zeilen die id übereinstimmt und kombiniert diese zu einer Gesamtzeile der neuen Tabelle. Wenn die neue Tabelle nur solche Zeilen enthält, für die sich in beiden Ausgangstabellen eine passende Zeile gefunden hat, heißt die Verknüpfung __Inner Join__. In der Funktion zur Verknüpfung sollte die Spalte mit angegeben werden mittels derer die Zeilen verknüpft werden (R lässt zwar zu diese wegzulassen z.B. wenn es nur eine in Frage kommende Spalte gibt. Eine explizite Nennung verbessert aber die Nachvollziehbarkeit).\n",
    "\n",
    "`inner_join(mytibble,tibblezwei, by='id')`\n",
    "\n",
    "Dieser Befehl ergibt die Kombination solcher Zeilen aus mytibble, für die es in tibblezwei zeilen mit derselben id gibt.\n",
    "\n",
    "#### Hinweis\n",
    "Sie werden im Ergebnis zwei Spalten sehen, deren Name mit z3 beginnt. Das ist richtig so, denn die Werte in der Spalte z3 sind ja je nach Tabelle verschieden, weshalb in der Verknüpfung zwei unterschiedliche Spalten nötig sind.\n",
    "\n",
    "### Aufgabe\n",
    "\n",
    "*Ändern Sie nachfolgend die Spalte, mittels derer die Verknüpfung hergestellt wird: Testen Sie, was passiert, wenn die Tabellen statt über die Spalte id über die Spalte z3 verknüpft werden.*"
   ]
  },
  {
   "cell_type": "code",
   "execution_count": null,
   "metadata": {},
   "outputs": [],
   "source": [
    "inner_join(mytibble,tibblezwei, by='id')"
   ]
  },
  {
   "cell_type": "markdown",
   "metadata": {},
   "source": [
    "Weitere Verknüpfungsmöglichkeiten ergeben sich, wenn Sie die erste oder die zweite in der join-Funktion genannte Tabelle komplett reproduzieren und jeweils Werte aus der anderen Tabelle in den passenden Zeilen anhängen. Dabei bleiben oft Felder der entstehenden Tabelle leer – weil sich keine passende Zeile in der anderen Tabelle gefunden hat. \n",
    "\n",
    "Der Befehl `left_join(mytibble,tibblezwei, by='id')` reproduziert die komplette ersten Tabelle (`mytibble`) und hängt immer wo passende id-Werte vorhanden sind die passende Zeile der zweiten Tabelle an.\n",
    " \n",
    "Umgekehrt sorgt der Befehl `right_join(mytibble,tibblezwei, by='id')`dafür, das die zweite Tabelle vollständig reprodiziert wird und passende Zeilen der ersten Tabelle angefügt werden.\n",
    " \n",
    "### Aufgabe\n",
    "*Es gibt noch eine vierte Join-Funktion: __full_join()__. Bilden Sie einen full join über die beiden Tabellen. Schauen Sie sich das Ergebnis an. Versuchen Sie zu formulieren, was es bedeutet, wenn ein full join erzeugt wird.*\n"
   ]
  },
  {
   "cell_type": "code",
   "execution_count": null,
   "metadata": {},
   "outputs": [],
   "source": [
    "#Bitte ergänzen Sie die Befehlszeile zu einem full_join über das id-Feld\n",
    "(mytibble,tibblezwei,)"
   ]
  }
 ],
 "metadata": {
  "celltoolbar": "Raw Cell Format",
  "kernelspec": {
   "display_name": "R",
   "language": "R",
   "name": "ir"
  },
  "language_info": {
   "codemirror_mode": "r",
   "file_extension": ".r",
   "mimetype": "text/x-r-source",
   "name": "R",
   "pygments_lexer": "r",
   "version": "3.4.4"
  }
 },
 "nbformat": 4,
 "nbformat_minor": 2
}
